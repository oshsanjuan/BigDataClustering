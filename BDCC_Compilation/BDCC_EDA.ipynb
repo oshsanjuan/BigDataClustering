{
 "cells": [
  {
   "cell_type": "code",
   "execution_count": 1,
   "id": "1a5297a9-4e15-401a-a919-f4f23772f1df",
   "metadata": {
    "execution": {
     "iopub.execute_input": "2024-06-13T07:12:30.098727Z",
     "iopub.status.busy": "2024-06-13T07:12:30.098490Z",
     "iopub.status.idle": "2024-06-13T07:14:09.218167Z",
     "shell.execute_reply": "2024-06-13T07:14:09.217489Z",
     "shell.execute_reply.started": "2024-06-13T07:12:30.098699Z"
    },
    "tags": []
   },
   "outputs": [
    {
     "data": {
      "application/vnd.jupyter.widget-view+json": {
       "model_id": "6892f60a1805450aa1c21c70da8b7758",
       "version_major": 2,
       "version_minor": 0
      },
      "text/plain": [
       "VBox()"
      ]
     },
     "metadata": {},
     "output_type": "display_data"
    },
    {
     "name": "stdout",
     "output_type": "stream",
     "text": [
      "Starting Spark application\n"
     ]
    },
    {
     "data": {
      "text/html": [
       "<table>\n<tbody><tr><th>ID</th><th>YARN Application ID</th><th>Kind</th><th>State</th><th>Spark UI</th><th>Driver log</th><th>User</th><th>Current session?</th></tr><tr><td>1</td><td>application_1718259089572_0002</td><td>pyspark</td><td>idle</td><td><a target=\"_blank\" href=\"http://ip-172-31-83-33.ec2.internal:20888/proxy/application_1718259089572_0002/\" class=\"emr-proxy-link j-3OO64TI71J6KP application_1718259089572_0002\" emr-resource=\"j-3OO64TI71J6KP\n\" application-id=\"application_1718259089572_0002\">Link</a></td><td><a target=\"_blank\" href=\"http://ip-172-31-95-178.ec2.internal:8042/node/containerlogs/container_1718259089572_0002_01_000001/livy\">Link</a></td><td>None</td><td>✔</td></tr></tbody></table>"
      ],
      "text/plain": [
       "<IPython.core.display.HTML object>"
      ]
     },
     "metadata": {},
     "output_type": "display_data"
    },
    {
     "data": {
      "application/vnd.jupyter.widget-view+json": {
       "model_id": "5e0a746987544ff89719b57975691173",
       "version_major": 2,
       "version_minor": 0
      },
      "text/plain": [
       "FloatProgress(value=0.0, bar_style='info', description='Progress:', layout=Layout(height='25px', width='50%'),…"
      ]
     },
     "metadata": {},
     "output_type": "display_data"
    },
    {
     "name": "stdout",
     "output_type": "stream",
     "text": [
      "SparkSession available as 'spark'.\n"
     ]
    },
    {
     "data": {
      "application/vnd.jupyter.widget-view+json": {
       "model_id": "",
       "version_major": 2,
       "version_minor": 0
      },
      "text/plain": [
       "FloatProgress(value=0.0, bar_style='info', description='Progress:', layout=Layout(height='25px', width='50%'),…"
      ]
     },
     "metadata": {},
     "output_type": "display_data"
    },
    {
     "name": "stdout",
     "output_type": "stream",
     "text": [
      "Collecting pandas==2.0.2\n",
      "  Downloading pandas-2.0.2-cp39-cp39-manylinux_2_17_x86_64.manylinux2014_x86_64.whl (12.4 MB)\n",
      "Collecting numpy>=1.20.3\n",
      "  Downloading numpy-1.26.4-cp39-cp39-manylinux_2_17_x86_64.manylinux2014_x86_64.whl (18.2 MB)\n",
      "Collecting python-dateutil>=2.8.2\n",
      "  Downloading python_dateutil-2.9.0.post0-py2.py3-none-any.whl (229 kB)\n",
      "Requirement already satisfied: pytz>=2020.1 in /usr/local/lib/python3.9/site-packages (from pandas==2.0.2) (2024.1)\n",
      "Collecting tzdata>=2022.1\n",
      "  Downloading tzdata-2024.1-py2.py3-none-any.whl (345 kB)\n",
      "Requirement already satisfied: six>=1.5 in /usr/local/lib/python3.9/site-packages (from python-dateutil>=2.8.2->pandas==2.0.2) (1.13.0)\n",
      "Installing collected packages: tzdata, python-dateutil, numpy, pandas\n",
      "  Attempting uninstall: python-dateutil\n",
      "    Found existing installation: python-dateutil 2.8.1\n",
      "    Not uninstalling python-dateutil at /usr/lib/python3.9/site-packages, outside environment /mnt1/yarn/usercache/livy/appcache/application_1718259089572_0002/container_1718259089572_0002_01_000001/tmp/spark-d207fd6c-bc39-4701-a50c-2cea984e9aa3\n",
      "    Can't uninstall 'python-dateutil'. No files were found to uninstall.\n",
      "Successfully installed numpy-1.26.4 pandas-2.0.2 python-dateutil-2.9.0.post0 tzdata-2024.1\n",
      "\n",
      "Collecting matplotlib\n",
      "  Downloading matplotlib-3.9.0-cp39-cp39-manylinux_2_17_x86_64.manylinux2014_x86_64.whl (8.3 MB)\n",
      "Collecting fonttools>=4.22.0\n",
      "  Downloading fonttools-4.53.0-cp39-cp39-manylinux_2_17_x86_64.manylinux2014_x86_64.whl (4.6 MB)\n",
      "Collecting packaging>=20.0\n",
      "  Downloading packaging-24.1-py3-none-any.whl (53 kB)\n",
      "Collecting importlib-resources>=3.2.0\n",
      "  Downloading importlib_resources-6.4.0-py3-none-any.whl (38 kB)\n",
      "Collecting pyparsing>=2.3.1\n",
      "  Downloading pyparsing-3.1.2-py3-none-any.whl (103 kB)\n",
      "Collecting cycler>=0.10\n",
      "  Downloading cycler-0.12.1-py3-none-any.whl (8.3 kB)\n",
      "Collecting kiwisolver>=1.3.1\n",
      "  Downloading kiwisolver-1.4.5-cp39-cp39-manylinux_2_12_x86_64.manylinux2010_x86_64.whl (1.6 MB)\n",
      "Requirement already satisfied: numpy>=1.23 in ./tmp/spark-d207fd6c-bc39-4701-a50c-2cea984e9aa3/lib64/python3.9/site-packages (from matplotlib) (1.26.4)\n",
      "Requirement already satisfied: python-dateutil>=2.7 in ./tmp/spark-d207fd6c-bc39-4701-a50c-2cea984e9aa3/lib/python3.9/site-packages (from matplotlib) (2.9.0.post0)\n",
      "Collecting contourpy>=1.0.1\n",
      "  Downloading contourpy-1.2.1-cp39-cp39-manylinux_2_17_x86_64.manylinux2014_x86_64.whl (304 kB)\n",
      "Collecting pillow>=8\n",
      "  Downloading pillow-10.3.0-cp39-cp39-manylinux_2_28_x86_64.whl (4.5 MB)\n",
      "Collecting zipp>=3.1.0\n",
      "  Downloading zipp-3.19.2-py3-none-any.whl (9.0 kB)\n",
      "Requirement already satisfied: six>=1.5 in /usr/local/lib/python3.9/site-packages (from python-dateutil>=2.7->matplotlib) (1.13.0)\n",
      "Installing collected packages: zipp, pyparsing, pillow, packaging, kiwisolver, importlib-resources, fonttools, cycler, contourpy, matplotlib\n",
      "Successfully installed contourpy-1.2.1 cycler-0.12.1 fonttools-4.53.0 importlib-resources-6.4.0 kiwisolver-1.4.5 matplotlib-3.9.0 packaging-24.1 pillow-10.3.0 pyparsing-3.1.2 zipp-3.19.2\n",
      "\n",
      "Collecting boto3\n",
      "  Downloading boto3-1.34.125-py3-none-any.whl (139 kB)\n",
      "Collecting s3transfer<0.11.0,>=0.10.0\n",
      "  Downloading s3transfer-0.10.1-py3-none-any.whl (82 kB)\n",
      "Requirement already satisfied: jmespath<2.0.0,>=0.7.1 in /usr/local/lib/python3.9/site-packages (from boto3) (1.0.1)\n",
      "Collecting botocore<1.35.0,>=1.34.125\n",
      "  Downloading botocore-1.34.125-py3-none-any.whl (12.3 MB)\n",
      "Requirement already satisfied: urllib3<1.27,>=1.25.4 in /usr/lib/python3.9/site-packages (from botocore<1.35.0,>=1.34.125->boto3) (1.25.10)\n",
      "Requirement already satisfied: python-dateutil<3.0.0,>=2.1 in ./tmp/spark-d207fd6c-bc39-4701-a50c-2cea984e9aa3/lib/python3.9/site-packages (from botocore<1.35.0,>=1.34.125->boto3) (2.9.0.post0)\n",
      "Requirement already satisfied: six>=1.5 in /usr/local/lib/python3.9/site-packages (from python-dateutil<3.0.0,>=2.1->botocore<1.35.0,>=1.34.125->boto3) (1.13.0)\n",
      "Installing collected packages: botocore, s3transfer, boto3\n",
      "Successfully installed boto3-1.34.125 botocore-1.34.125 s3transfer-0.10.1\n",
      "\n",
      "Collecting pyarrow==14.0.2\n",
      "  Downloading pyarrow-14.0.2-cp39-cp39-manylinux_2_28_x86_64.whl (38.0 MB)\n",
      "Requirement already satisfied: numpy>=1.16.6 in ./tmp/spark-d207fd6c-bc39-4701-a50c-2cea984e9aa3/lib64/python3.9/site-packages (from pyarrow==14.0.2) (1.26.4)\n",
      "Installing collected packages: pyarrow\n",
      "Successfully installed pyarrow-14.0.2\n",
      "\n",
      "Collecting pillow==9.4.0\n",
      "  Downloading Pillow-9.4.0-cp39-cp39-manylinux_2_28_x86_64.whl (3.4 MB)\n",
      "Installing collected packages: pillow\n",
      "  Attempting uninstall: pillow\n",
      "    Found existing installation: pillow 10.3.0\n",
      "    Uninstalling pillow-10.3.0:\n",
      "      Successfully uninstalled pillow-10.3.0\n",
      "Successfully installed pillow-9.4.0\n",
      "\n",
      "Collecting plotly\n",
      "  Downloading plotly-5.22.0-py3-none-any.whl (16.4 MB)\n",
      "Requirement already satisfied: packaging in ./tmp/spark-d207fd6c-bc39-4701-a50c-2cea984e9aa3/lib/python3.9/site-packages (from plotly) (24.1)\n",
      "Collecting tenacity>=6.2.0\n",
      "  Downloading tenacity-8.3.0-py3-none-any.whl (25 kB)\n",
      "Installing collected packages: tenacity, plotly\n",
      "Successfully installed plotly-5.22.0 tenacity-8.3.0\n",
      "\n",
      "WARNING: The directory '/home/.cache/pip' or its parent directory is not owned or is not writable by the current user. The cache has been disabled. Check the permissions and owner of that directory. If executing pip with sudo, you should use sudo's -H flag.\n",
      "ERROR: pip's dependency resolver does not currently take into account all the packages that are installed. This behaviour is the source of the following dependency conflicts.\n",
      "awscli 2.15.30 requires python-dateutil<=2.8.2,>=2.1, but you have python-dateutil 2.9.0.post0 which is incompatible.\n",
      "\n",
      "WARNING: The directory '/home/.cache/pip' or its parent directory is not owned or is not writable by the current user. The cache has been disabled. Check the permissions and owner of that directory. If executing pip with sudo, you should use sudo's -H flag.\n",
      "\n",
      "WARNING: The directory '/home/.cache/pip' or its parent directory is not owned or is not writable by the current user. The cache has been disabled. Check the permissions and owner of that directory. If executing pip with sudo, you should use sudo's -H flag.\n",
      "\n",
      "WARNING: The directory '/home/.cache/pip' or its parent directory is not owned or is not writable by the current user. The cache has been disabled. Check the permissions and owner of that directory. If executing pip with sudo, you should use sudo's -H flag.\n",
      "\n",
      "WARNING: The directory '/home/.cache/pip' or its parent directory is not owned or is not writable by the current user. The cache has been disabled. Check the permissions and owner of that directory. If executing pip with sudo, you should use sudo's -H flag.\n",
      "\n",
      "WARNING: The directory '/home/.cache/pip' or its parent directory is not owned or is not writable by the current user. The cache has been disabled. Check the permissions and owner of that directory. If executing pip with sudo, you should use sudo's -H flag."
     ]
    }
   ],
   "source": [
    "sc.install_pypi_package(\"pandas==2.0.2\")\n",
    "sc.install_pypi_package(\"matplotlib\")\n",
    "# sc.install_pypi_package(\"seaborn\")\n",
    "# sc.install_pypi_package(\"tensorflow==2.15.0\")\n",
    "sc.install_pypi_package(\"boto3\")\n",
    "sc.install_pypi_package(\"pyarrow==14.0.2\")\n",
    "sc.install_pypi_package(\"pillow==9.4.0\")\n",
    "# sc.install_pypi_package(\"opencv-python\")\n",
    "sc.install_pypi_package(\"plotly\")"
   ]
  },
  {
   "cell_type": "code",
   "execution_count": 2,
   "id": "9335b7c5-f93d-4c41-8c23-744831ea5d05",
   "metadata": {
    "execution": {
     "iopub.execute_input": "2024-06-13T07:14:09.222082Z",
     "iopub.status.busy": "2024-06-13T07:14:09.221696Z",
     "iopub.status.idle": "2024-06-13T07:14:11.490547Z",
     "shell.execute_reply": "2024-06-13T07:14:11.489907Z",
     "shell.execute_reply.started": "2024-06-13T07:14:09.222043Z"
    },
    "tags": []
   },
   "outputs": [
    {
     "data": {
      "application/vnd.jupyter.widget-view+json": {
       "model_id": "78a028e0f35c45889d2583e5b3bc48be",
       "version_major": 2,
       "version_minor": 0
      },
      "text/plain": [
       "VBox()"
      ]
     },
     "metadata": {},
     "output_type": "display_data"
    },
    {
     "data": {
      "application/vnd.jupyter.widget-view+json": {
       "model_id": "",
       "version_major": 2,
       "version_minor": 0
      },
      "text/plain": [
       "FloatProgress(value=0.0, bar_style='info', description='Progress:', layout=Layout(height='25px', width='50%'),…"
      ]
     },
     "metadata": {},
     "output_type": "display_data"
    }
   ],
   "source": [
    "import io\n",
    "from io import BytesIO\n",
    "import os\n",
    "from glob import glob\n",
    "import numpy as np\n",
    "import pandas as pd\n",
    "import boto3\n",
    "from PIL import Image\n",
    "import matplotlib.pyplot as plt\n",
    "\n",
    "# from pyspark.ml import Pipeline\n",
    "# from pyspark.ml.feature import PCA, StandardScaler, VectorAssembler\n",
    "# from pyspark.ml.linalg import Vector, Vectors, VectorUDT\n",
    "# from pyspark.ml.functions import array_to_vector\n",
    "\n",
    "# from pyspark.sql import Row, SparkSession\n",
    "# from pyspark.sql import functions as F\n",
    "# from pyspark.sql.types import ArrayType, DoubleType, FloatType, StringType\n",
    "# from pyspark.sql.types import StructType, StructField, StringType, IntegerType"
   ]
  },
  {
   "cell_type": "code",
   "execution_count": 3,
   "id": "7ea944f8-c678-465a-9885-0eec7aaf17d2",
   "metadata": {
    "execution": {
     "iopub.execute_input": "2024-06-13T07:14:11.493536Z",
     "iopub.status.busy": "2024-06-13T07:14:11.493368Z",
     "iopub.status.idle": "2024-06-13T07:15:24.966782Z",
     "shell.execute_reply": "2024-06-13T07:15:24.966084Z",
     "shell.execute_reply.started": "2024-06-13T07:14:11.493514Z"
    },
    "tags": []
   },
   "outputs": [
    {
     "data": {
      "application/vnd.jupyter.widget-view+json": {
       "model_id": "3bb42e326ce54defa4d92890ef62679f",
       "version_major": 2,
       "version_minor": 0
      },
      "text/plain": [
       "VBox()"
      ]
     },
     "metadata": {},
     "output_type": "display_data"
    },
    {
     "data": {
      "application/vnd.jupyter.widget-view+json": {
       "model_id": "",
       "version_major": 2,
       "version_minor": 0
      },
      "text/plain": [
       "FloatProgress(value=0.0, bar_style='info', description='Progress:', layout=Layout(height='25px', width='50%'),…"
      ]
     },
     "metadata": {},
     "output_type": "display_data"
    }
   ],
   "source": [
    "df_images = spark.read.format(\"image\").option(\"dropInvalid\", True).load(\"s3a://bdcc2024-cpt5-finalproject/1mcats\")"
   ]
  },
  {
   "cell_type": "code",
   "execution_count": 4,
   "id": "d159a63e-a8fc-4df9-ae53-264059d91a45",
   "metadata": {
    "execution": {
     "iopub.execute_input": "2024-06-13T07:15:24.970627Z",
     "iopub.status.busy": "2024-06-13T07:15:24.970462Z",
     "iopub.status.idle": "2024-06-13T07:15:25.220771Z",
     "shell.execute_reply": "2024-06-13T07:15:25.220028Z",
     "shell.execute_reply.started": "2024-06-13T07:15:24.970605Z"
    },
    "tags": []
   },
   "outputs": [
    {
     "data": {
      "application/vnd.jupyter.widget-view+json": {
       "model_id": "fdd2a71844594f709e9b857e6879b990",
       "version_major": 2,
       "version_minor": 0
      },
      "text/plain": [
       "VBox()"
      ]
     },
     "metadata": {},
     "output_type": "display_data"
    },
    {
     "data": {
      "application/vnd.jupyter.widget-view+json": {
       "model_id": "",
       "version_major": 2,
       "version_minor": 0
      },
      "text/plain": [
       "FloatProgress(value=0.0, bar_style='info', description='Progress:', layout=Layout(height='25px', width='50%'),…"
      ]
     },
     "metadata": {},
     "output_type": "display_data"
    },
    {
     "name": "stdout",
     "output_type": "stream",
     "text": [
      "root\n",
      " |-- image: struct (nullable = true)\n",
      " |    |-- origin: string (nullable = true)\n",
      " |    |-- height: integer (nullable = true)\n",
      " |    |-- width: integer (nullable = true)\n",
      " |    |-- nChannels: integer (nullable = true)\n",
      " |    |-- mode: integer (nullable = true)\n",
      " |    |-- data: binary (nullable = true)"
     ]
    }
   ],
   "source": [
    "df_images.printSchema()"
   ]
  },
  {
   "cell_type": "code",
   "execution_count": 7,
   "id": "85f790ec-fa2c-4c1b-8b6c-121cad3e19c0",
   "metadata": {
    "execution": {
     "iopub.execute_input": "2024-06-13T07:22:37.553336Z",
     "iopub.status.busy": "2024-06-13T07:22:37.553096Z",
     "iopub.status.idle": "2024-06-13T07:56:01.425385Z",
     "shell.execute_reply": "2024-06-13T07:56:01.424740Z",
     "shell.execute_reply.started": "2024-06-13T07:22:37.553311Z"
    },
    "tags": []
   },
   "outputs": [
    {
     "data": {
      "application/vnd.jupyter.widget-view+json": {
       "model_id": "4719bcbc64fa427a9c5e436f63ca5ee3",
       "version_major": 2,
       "version_minor": 0
      },
      "text/plain": [
       "VBox()"
      ]
     },
     "metadata": {},
     "output_type": "display_data"
    },
    {
     "data": {
      "application/vnd.jupyter.widget-view+json": {
       "model_id": "",
       "version_major": 2,
       "version_minor": 0
      },
      "text/plain": [
       "FloatProgress(value=0.0, bar_style='info', description='Progress:', layout=Layout(height='25px', width='50%'),…"
      ]
     },
     "metadata": {},
     "output_type": "display_data"
    }
   ],
   "source": [
    "def height_dist():\n",
    "    heights = df_images.select(\"image.height\").rdd.flatMap(lambda x: x).collect()\n",
    "    plt.figure(figsize=(10, 6))\n",
    "    plt.hist(heights, bins=20, edgecolor='black')\n",
    "    plt.title('Height Distribution')\n",
    "    plt.xlabel('Height')\n",
    "    plt.ylabel('Frequency')\n",
    "    plt.grid(True)\n",
    "    plt.show()\n",
    "    \n",
    "height_dist()"
   ]
  },
  {
   "cell_type": "code",
   "execution_count": 10,
   "id": "07c5e875-6e29-4705-9da8-02a1aec61641",
   "metadata": {
    "execution": {
     "iopub.execute_input": "2024-06-13T08:11:37.227056Z",
     "iopub.status.busy": "2024-06-13T08:11:37.226828Z",
     "iopub.status.idle": "2024-06-13T08:11:37.458130Z",
     "shell.execute_reply": "2024-06-13T08:11:37.457499Z",
     "shell.execute_reply.started": "2024-06-13T08:11:37.227031Z"
    },
    "tags": []
   },
   "outputs": [
    {
     "data": {
      "application/vnd.jupyter.widget-view+json": {
       "model_id": "",
       "version_major": 2,
       "version_minor": 0
      },
      "text/plain": [
       "FloatProgress(value=0.0, bar_style='info', description='Progress:', layout=Layout(height='25px', width='50%'),…"
      ]
     },
     "metadata": {},
     "output_type": "display_data"
    },
    {
     "data": {
      "image/png": "[encoded data removed]",
      "text/plain": [
       "<IPython.core.display.Image object>"
      ]
     },
     "metadata": {},
     "output_type": "display_data"
    }
   ],
   "source": [
    "%matplot plt"
   ]
  },
  {
   "cell_type": "code",
   "execution_count": 11,
   "id": "565de0bb-a586-43bf-8d8e-9e6950fdba38",
   "metadata": {
    "execution": {
     "iopub.execute_input": "2024-06-13T08:11:48.094921Z",
     "iopub.status.busy": "2024-06-13T08:11:48.094681Z",
     "iopub.status.idle": "2024-06-13T08:45:49.724864Z",
     "shell.execute_reply": "2024-06-13T08:45:49.724191Z",
     "shell.execute_reply.started": "2024-06-13T08:11:48.094896Z"
    }
   },
   "outputs": [
    {
     "data": {
      "application/vnd.jupyter.widget-view+json": {
       "model_id": "f18b91e1ccf440e5855fbb0d3c220f04",
       "version_major": 2,
       "version_minor": 0
      },
      "text/plain": [
       "VBox()"
      ]
     },
     "metadata": {},
     "output_type": "display_data"
    },
    {
     "data": {
      "application/vnd.jupyter.widget-view+json": {
       "model_id": "",
       "version_major": 2,
       "version_minor": 0
      },
      "text/plain": [
       "FloatProgress(value=0.0, bar_style='info', description='Progress:', layout=Layout(height='25px', width='50%'),…"
      ]
     },
     "metadata": {},
     "output_type": "display_data"
    },
    {
     "data": {
      "image/png": "[encoded data removed]",
      "text/plain": [
       "<IPython.core.display.Image object>"
      ]
     },
     "metadata": {},
     "output_type": "display_data"
    }
   ],
   "source": [
    "def width_dist():\n",
    "    widths = df_images.select(\"image.width\").rdd.flatMap(lambda x: x).collect()\n",
    "    plt.figure(figsize=(10, 6))\n",
    "    plt.hist(widths, bins=10, edgecolor='black')\n",
    "    plt.title('Width Distribution')\n",
    "    plt.xlabel('Width')\n",
    "    plt.ylabel('Frequency')\n",
    "    plt.grid(True)\n",
    "    plt.show()\n",
    "    \n",
    "width_dist()\n",
    "%matplot plt"
   ]
  },
  {
   "cell_type": "code",
   "execution_count": 15,
   "id": "94ee93fb-bfc2-4608-b620-9e8c6048ffe9",
   "metadata": {
    "execution": {
     "iopub.execute_input": "2024-06-13T08:53:24.151179Z",
     "iopub.status.busy": "2024-06-13T08:53:24.150669Z",
     "iopub.status.idle": "2024-06-13T09:26:40.583132Z",
     "shell.execute_reply": "2024-06-13T09:26:40.582324Z",
     "shell.execute_reply.started": "2024-06-13T08:53:24.151136Z"
    },
    "tags": []
   },
   "outputs": [
    {
     "data": {
      "application/vnd.jupyter.widget-view+json": {
       "model_id": "82cd0fd19dfb4ac586f4ee4ef37f0438",
       "version_major": 2,
       "version_minor": 0
      },
      "text/plain": [
       "VBox()"
      ]
     },
     "metadata": {},
     "output_type": "display_data"
    },
    {
     "data": {
      "application/vnd.jupyter.widget-view+json": {
       "model_id": "",
       "version_major": 2,
       "version_minor": 0
      },
      "text/plain": [
       "FloatProgress(value=0.0, bar_style='info', description='Progress:', layout=Layout(height='25px', width='50%'),…"
      ]
     },
     "metadata": {},
     "output_type": "display_data"
    },
    {
     "name": "stdout",
     "output_type": "stream",
     "text": [
      "+-------+--------------------+--------------------+\n",
      "|summary|           nChannels|                mode|\n",
      "+-------+--------------------+--------------------+\n",
      "|  count|              999994|              999994|\n",
      "|   mean|  3.0000010000060002|  16.000008000048002|\n",
      "| stddev|0.001000003000013...|0.008000024000107974|\n",
      "|    min|                   3|                  16|\n",
      "|    25%|                   3|                  16|\n",
      "|    50%|                   3|                  16|\n",
      "|    75%|                   3|                  16|\n",
      "|    max|                   4|                  24|\n",
      "+-------+--------------------+--------------------+"
     ]
    }
   ],
   "source": [
    "df_images.select('image.nChannels', 'image.mode').summary().show()"
   ]
  }
 ],
 "metadata": {
  "kernelspec": {
   "display_name": "PySpark",
   "language": "python",
   "name": "pysparkkernel"
  },
  "language_info": {
   "codemirror_mode": {
    "name": "python",
    "version": 3
   },
   "file_extension": ".py",
   "mimetype": "text/x-python",
   "name": "pyspark",
   "pygments_lexer": "python3"
  }
 },
 "nbformat": 4,
 "nbformat_minor": 5
}
